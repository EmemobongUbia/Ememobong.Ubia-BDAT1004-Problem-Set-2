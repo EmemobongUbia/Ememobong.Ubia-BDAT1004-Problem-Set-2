{
 "cells": [
  {
   "cell_type": "markdown",
   "id": "541a7d0e",
   "metadata": {},
   "source": [
    "# Question 1"
   ]
  },
  {
   "cell_type": "code",
   "execution_count": 2,
   "id": "5cb6a38c",
   "metadata": {},
   "outputs": [
    {
     "name": "stdout",
     "output_type": "stream",
     "text": [
      "6\n"
     ]
    }
   ],
   "source": [
    "a = 0\n",
    "\n",
    "def b():\n",
    "    global a\n",
    "    a = c(a)\n",
    "    \n",
    "def c(a):\n",
    "    return a + 2\n",
    "\n",
    "b()\n",
    "b()\n",
    "b()\n",
    "\n",
    "print (a)"
   ]
  },
  {
   "cell_type": "markdown",
   "id": "0d375076",
   "metadata": {},
   "source": [
    "# Questio 2"
   ]
  },
  {
   "cell_type": "code",
   "execution_count": 3,
   "id": "95e56306",
   "metadata": {},
   "outputs": [],
   "source": [
    "def file_length(filename):\n",
    "    try:\n",
    "        fileLength()\n",
    "        contents = file.read()\n",
    "        file.close()\n",
    "        print(len(contents))\n",
    "\n",
    "    except FileNotFoundError:\n",
    "        print(\"File {} not found.\".format(file_name))"
   ]
  },
  {
   "cell_type": "markdown",
   "id": "b5e5b44d",
   "metadata": {},
   "source": [
    "# Question 3"
   ]
  },
  {
   "cell_type": "code",
   "execution_count": 2,
   "id": "10dd9322",
   "metadata": {},
   "outputs": [
    {
     "name": "stdout",
     "output_type": "stream",
     "text": [
      "I am a Kangaroo located at coordinates (0, 0)\n",
      "['doll', 'firetruck', 'kitten']\n",
      "I am a Kangaroo located at coordinates (3, 0)\n"
     ]
    }
   ],
   "source": [
    "class Kangaroo:\n",
    "    def __init__(self, x=0, y=0):\n",
    "        self.x = x\n",
    "        self.y = y\n",
    "        self.pouch_contents = []\n",
    "        \n",
    "    def put_in_pouch(self, thing):\n",
    "        self.pouch_contents.append(thing)\n",
    "        \n",
    "    def __str__(self):\n",
    "        return \"I am a Kangaroo located at coordinates ({}, {})\".format(self.x, self.y)\n",
    "    \n",
    "    def __repr__(self):\n",
    "        return 'Kangaroo({}, {})'.format(self.x, self.y)\n",
    "    \n",
    "    def jump(self, dx, dy):\n",
    "        self.x += dx\n",
    "        self.y += dy\n",
    "        \n",
    "k = Kangaroo(0, 0)\n",
    "print(k)  # Output: \"I am a Kangaroo located at coordinates (0, 0)\"\n",
    "\n",
    "k.put_in_pouch('doll')\n",
    "k.put_in_pouch('firetruck')\n",
    "k.put_in_pouch('kitten')\n",
    "print(k.pouch_contents)  # Output: ['doll', 'firetruck', 'kitten']\n",
    "\n",
    "k.jump(1, 0)\n",
    "k.jump(1, 0)\n",
    "k.jump(1, 0)\n",
    "print(k)  # Output: \"I am a Kangaroo located at coordinates (3, 0)\""
   ]
  },
  {
   "cell_type": "markdown",
   "id": "d71c28d4",
   "metadata": {},
   "source": [
    "# Question 4"
   ]
  },
  {
   "cell_type": "code",
   "execution_count": 22,
   "id": "e0bf72d0",
   "metadata": {},
   "outputs": [
    {
     "name": "stdout",
     "output_type": "stream",
     "text": [
      "6 3 10 5 16 8 4 2 1\n"
     ]
    }
   ],
   "source": [
    "def printCollatz(x):\n",
    "    # we simply follow steps while we do not reach 1\n",
    "    while x != 1:\n",
    "        print(x, end=' ')\n",
    "        # if x is odd\n",
    "        if x % 2 == 1:\n",
    "            x = 3*x + 1\n",
    "        # if even\n",
    "        else:\n",
    "            x = x // 2\n",
    "    # print 1 at the end\n",
    "    print(1)\n",
    "\n",
    "# example usage\n",
    "printCollatz(6)"
   ]
  },
  {
   "cell_type": "markdown",
   "id": "1113f4db",
   "metadata": {},
   "source": [
    "# Question 5"
   ]
  },
  {
   "cell_type": "code",
   "execution_count": 31,
   "id": "8a7be029",
   "metadata": {},
   "outputs": [
    {
     "name": "stdout",
     "output_type": "stream",
     "text": [
      "01111001"
     ]
    }
   ],
   "source": [
    "def binary(n):\n",
    "    if n == 0:\n",
    "        print('0', end='')\n",
    "    elif n == 1:\n",
    "        print('1', end='')\n",
    "    else:\n",
    "        binary(n // 2)\n",
    "        print(n % 2, end='')\n",
    "        \n",
    "binary(0)\n",
    "binary(1)\n",
    "binary(3)\n",
    "binary(9)"
   ]
  },
  {
   "cell_type": "markdown",
   "id": "f6a7547e",
   "metadata": {},
   "source": [
    "# Question 6"
   ]
  },
  {
   "cell_type": "code",
   "execution_count": null,
   "id": "ec6e7935",
   "metadata": {},
   "outputs": [],
   "source": []
  },
  {
   "cell_type": "code",
   "execution_count": null,
   "id": "85898d30",
   "metadata": {},
   "outputs": [],
   "source": []
  },
  {
   "cell_type": "markdown",
   "id": "8ee1372d",
   "metadata": {},
   "source": [
    "# Question 7"
   ]
  },
  {
   "cell_type": "code",
   "execution_count": 3,
   "id": "744a81d1",
   "metadata": {},
   "outputs": [],
   "source": [
    "from urllib.request import urlopen\n",
    "from urllib.parse import urljoin\n",
    "from bs4 import BeautifulSoup\n",
    "\n",
    "def webdir(url, depth, indent):\n",
    "    if depth == 0:\n",
    "        return\n",
    "    try:\n",
    "        page = urlopen(url)\n",
    "    except:\n",
    "        return\n",
    "    soup = BeautifulSoup(page, 'html.parser')\n",
    "    print(''*indent + url)\n",
    "    indent += 4\n",
    "    for link in soup.find_all('a'):\n",
    "        href = link.get('href')\n",
    "        if href.startswith('http'):\n",
    "            next_url = href\n",
    "        else:\n",
    "            next_url = urljoin(url, href)\n",
    "        webdir(next_url, depth-1, indent)"
   ]
  },
  {
   "cell_type": "markdown",
   "id": "287b9ff1",
   "metadata": {},
   "source": [
    "# Question 8"
   ]
  },
  {
   "cell_type": "code",
   "execution_count": null,
   "id": "496f39b6",
   "metadata": {},
   "outputs": [],
   "source": [
    "a. SELECT Temperature, FROM Dataset;\n",
    "b. SELECT DISTINCT cities, FROM Dataset;\n",
    "c. SELECT * FROM Dataset \n",
    "    WHERE Country = 'India';\n",
    "d. SELECT * FROM Dataset \n",
    "    WHERE Season = 'Fall';\n",
    "e. SELECT City,Country,Season, FROM Dataset \n",
    "    WHERE Rainfall >= 200 and Rainfall <= 400;\n",
    "f. SELECT City,Country FROM Dataset \n",
    "    WHERE Season = 'Fall' and Temperature > 20 \n",
    "    ORDER BY Temperature\n",
    "g. SELECT SUM(Rainfall) FROM Dataset \n",
    "    WHERE City = 'Cairo';\n",
    "h. SELECT Season,SUM(Rainfall) FROM Datasets;"
   ]
  },
  {
   "cell_type": "markdown",
   "id": "ee32a6a8",
   "metadata": {},
   "source": [
    "# Question 9"
   ]
  },
  {
   "cell_type": "markdown",
   "id": "1c4d136c",
   "metadata": {},
   "source": [
    "a. upper_words = [word.upper() for word in words]\n",
    "b. lowercase_words = [word.lower() for word in words]\n",
    "c. word_lenghts = [len(word) for word in words]\n",
    "d. word_info = [[word.upper(), word.lower(), len(word)] for word in words]\n",
    "e. long_words = [word for word in words if len(word) >= 4]"
   ]
  }
 ],
 "metadata": {
  "kernelspec": {
   "display_name": "Python 3 (ipykernel)",
   "language": "python",
   "name": "python3"
  },
  "language_info": {
   "codemirror_mode": {
    "name": "ipython",
    "version": 3
   },
   "file_extension": ".py",
   "mimetype": "text/x-python",
   "name": "python",
   "nbconvert_exporter": "python",
   "pygments_lexer": "ipython3",
   "version": "3.9.13"
  }
 },
 "nbformat": 4,
 "nbformat_minor": 5
}
